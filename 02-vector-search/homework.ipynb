{
 "cells": [
  {
   "cell_type": "markdown",
   "id": "33b729b4-aec9-4198-8a11-179574bacf4e",
   "metadata": {},
   "source": [
    "# Homework: Vector Search\n",
    "## Embeddings\n",
    "Qdrant uses [fastembed](https://github.com/qdrant/fastembed) under the hood to turn text into vectors. We will now explore this library. Make sure it's installed:"
   ]
  },
  {
   "cell_type": "code",
   "execution_count": 1,
   "id": "ef325feb-ac2f-4896-8440-29c8a7f176bf",
   "metadata": {},
   "outputs": [],
   "source": [
    "# pip install fastembed"
   ]
  },
  {
   "cell_type": "code",
   "execution_count": 4,
   "id": "2119b07d-a0c1-4d6e-bdf6-5893316354b0",
   "metadata": {},
   "outputs": [],
   "source": [
    "from fastembed import TextEmbedding\n",
    "import numpy as np"
   ]
  },
  {
   "cell_type": "markdown",
   "id": "56ac6b67-77cc-4b4e-8dcf-4156d32801f3",
   "metadata": {},
   "source": [
    "# Q1. Embedding the query\n",
    "Embed the query: 'I just discovered the course. Can I join now?'. Use the 'jinaai/jina-embeddings-v2-small-en' model.<br>\n",
    "You should get a numpy array of size 512."
   ]
  },
  {
   "cell_type": "markdown",
   "id": "58355880-f07e-47f5-a574-1a18eb83a0c7",
   "metadata": {},
   "source": [
    "What's the minimal value in this array?\n",
    "- -0.51\n",
    "- -0.11\n",
    "- 0\n",
    "- 0.51"
   ]
  },
  {
   "cell_type": "code",
   "execution_count": 11,
   "id": "79aa019b-ec2a-444a-893e-72d0ee652c79",
   "metadata": {},
   "outputs": [],
   "source": [
    "# Query to embed\n",
    "query = 'I just discovered the course. Can I join now?'\n",
    "\n",
    "# Initialize the TextEmbedding model\n",
    "embedding_model = TextEmbedding(model_name='jinaai/jina-embeddings-v2-small-en')\n",
    "\n",
    "embeddings = list(embedding_model.embed(query))\n",
    "embedding_array = embeddings[0]"
   ]
  },
  {
   "cell_type": "code",
   "execution_count": 19,
   "id": "4f7ac80b-f2e1-408b-b71b-7d0b0d926551",
   "metadata": {},
   "outputs": [
    {
     "name": "stdout",
     "output_type": "stream",
     "text": [
      "The size of the embedding array is: 512\n",
      "The minimal value in the embedding array is: -0.117\n"
     ]
    }
   ],
   "source": [
    "print(f\"The size of the embedding array is: {embedding_array.shape[0]}\")\n",
    "print(f\"The minimal value in the embedding array is: {np.min(embedding_array).round(3)}\")"
   ]
  },
  {
   "cell_type": "markdown",
   "id": "2626910d-d3b3-4e6f-bcda-ed355aa113b8",
   "metadata": {},
   "source": [
    "## Cosine similarity\n",
    "The vectors that our embedding model returns are already normalized: their length is 1.0.\n",
    "You can check that by using the norm function:"
   ]
  },
  {
   "cell_type": "code",
   "execution_count": 20,
   "id": "8055c89c-1c09-44aa-8f77-1fd9737751d2",
   "metadata": {},
   "outputs": [
    {
     "data": {
      "text/plain": [
       "np.float64(1.0)"
      ]
     },
     "execution_count": 20,
     "metadata": {},
     "output_type": "execute_result"
    }
   ],
   "source": [
    "np.linalg.norm(embedding_array)"
   ]
  },
  {
   "cell_type": "markdown",
   "id": "465a66b4-37b8-48ed-bc31-a3863c98156b",
   "metadata": {},
   "source": [
    "Which means that we can simply compute the dot product between two vectors to learn the cosine similarity between them.<br>\n",
    "For example, if you compute the cosine of the query vector with itself, the result will be 1.0:"
   ]
  },
  {
   "cell_type": "code",
   "execution_count": 21,
   "id": "f771ebad-ccd1-4441-a2e1-97fa148d0cfa",
   "metadata": {},
   "outputs": [
    {
     "data": {
      "text/plain": [
       "np.float64(1.0000000000000002)"
      ]
     },
     "execution_count": 21,
     "metadata": {},
     "output_type": "execute_result"
    }
   ],
   "source": [
    "embedding_array.dot(embedding_array)"
   ]
  },
  {
   "cell_type": "markdown",
   "id": "9aaede4d-17b5-4ec8-bf97-3c50b0e3b0b3",
   "metadata": {},
   "source": [
    "# Q2 Cosine similarity with another vector\n",
    "Now let's embed this document:"
   ]
  },
  {
   "cell_type": "code",
   "execution_count": 22,
   "id": "ffdbb0be-6aa7-4895-b581-84373c929fe4",
   "metadata": {},
   "outputs": [],
   "source": [
    "doc = 'Can I still join the course after the start date?'"
   ]
  },
  {
   "cell_type": "code",
   "execution_count": 24,
   "id": "0ef5cd25-edf8-48c8-bb1e-c2fe9edcba60",
   "metadata": {},
   "outputs": [],
   "source": [
    "q2 = list(embedding_model.embed(doc))[0]"
   ]
  },
  {
   "cell_type": "markdown",
   "id": "0d650edb-3200-4996-8fc2-1c21d72f49cb",
   "metadata": {},
   "source": [
    "What's the cosine similarity between the vector for the query and the vector for the document?\n",
    "- 0.3\n",
    "- 0.5\n",
    "- 0.7\n",
    "- 0.9"
   ]
  },
  {
   "cell_type": "code",
   "execution_count": 26,
   "id": "35ae3ec6-5da8-4147-8caa-a9330dd1aa9e",
   "metadata": {},
   "outputs": [
    {
     "data": {
      "text/plain": [
       "np.float64(0.9)"
      ]
     },
     "execution_count": 26,
     "metadata": {},
     "output_type": "execute_result"
    }
   ],
   "source": [
    "embedding_array.dot(q2).round(1)"
   ]
  },
  {
   "cell_type": "markdown",
   "id": "ab08d3e8-4aef-44f1-845e-af8ff707565c",
   "metadata": {},
   "source": [
    "# Q3 Ranking by cosine\n",
    "For Q3 and Q4 we will use these documents:"
   ]
  },
  {
   "cell_type": "code",
   "execution_count": 27,
   "id": "daeb298c-0530-46bd-83c0-2eac22c26482",
   "metadata": {},
   "outputs": [],
   "source": [
    "documents = [{'text': \"Yes, even if you don't register, you're still eligible to submit the homeworks.\\nBe aware, however, that there will be deadlines for turning in the final projects. So don't leave everything for the last minute.\",\n",
    "  'section': 'General course-related questions',\n",
    "  'question': 'Course - Can I still join the course after the start date?',\n",
    "  'course': 'data-engineering-zoomcamp'},\n",
    " {'text': 'Yes, we will keep all the materials after the course finishes, so you can follow the course at your own pace after it finishes.\\nYou can also continue looking at the homeworks and continue preparing for the next cohort. I guess you can also start working on your final capstone project.',\n",
    "  'section': 'General course-related questions',\n",
    "  'question': 'Course - Can I follow the course after it finishes?',\n",
    "  'course': 'data-engineering-zoomcamp'},\n",
    " {'text': \"The purpose of this document is to capture frequently asked technical questions\\nThe exact day and hour of the course will be 15th Jan 2024 at 17h00. The course will start with the first  “Office Hours'' live.1\\nSubscribe to course public Google Calendar (it works from Desktop only).\\nRegister before the course starts using this link.\\nJoin the course Telegram channel with announcements.\\nDon’t forget to register in DataTalks.Club's Slack and join the channel.\",\n",
    "  'section': 'General course-related questions',\n",
    "  'question': 'Course - When will the course start?',\n",
    "  'course': 'data-engineering-zoomcamp'},\n",
    " {'text': 'You can start by installing and setting up all the dependencies and requirements:\\nGoogle cloud account\\nGoogle Cloud SDK\\nPython 3 (installed with Anaconda)\\nTerraform\\nGit\\nLook over the prerequisites and syllabus to see if you are comfortable with these subjects.',\n",
    "  'section': 'General course-related questions',\n",
    "  'question': 'Course - What can I do before the course starts?',\n",
    "  'course': 'data-engineering-zoomcamp'},\n",
    " {'text': 'Star the repo! Share it with friends if you find it useful ❣️\\nCreate a PR if you see you can improve the text or the structure of the repository.',\n",
    "  'section': 'General course-related questions',\n",
    "  'question': 'How can we contribute to the course?',\n",
    "  'course': 'data-engineering-zoomcamp'}]"
   ]
  },
  {
   "cell_type": "markdown",
   "id": "110c25cd-c9a7-4600-bc42-bed67c56035a",
   "metadata": {},
   "source": [
    "Compute the embeddings for the text field, and compute the cosine between the query vector and all the documents.\n",
    "\n",
    "What's the document index with the highest similarity? (Indexing starts from 0):\n",
    "- 0\n",
    "- 1\n",
    "- 2\n",
    "- 3\n",
    "- 4\n",
    "\n",
    "Hint: if you put all the embeddings of the text field in one matrix V (a single 2-dimensional numpy array), then computing the cosine becomes a matrix multiplication:\n",
    "```python\n",
    "V.dot(q)\n",
    "```\n",
    "If this hint is rather confusing you than helping, feel free to ignore it."
   ]
  },
  {
   "cell_type": "code",
   "execution_count": 31,
   "id": "d244dcc8-4901-4205-be6e-a3a20d21f14c",
   "metadata": {},
   "outputs": [],
   "source": [
    "embeddings = []\n",
    "\n",
    "for doc in documents:\n",
    "    embedded_array = list(embedding_model.embed(doc['text']))[0]\n",
    "    embeddings.append(embedded_array)\n",
    "\n",
    "embeddings = np.array(embeddings)"
   ]
  },
  {
   "cell_type": "code",
   "execution_count": 36,
   "id": "253b1166-2377-41b5-bf0f-9e0db38a4224",
   "metadata": {},
   "outputs": [
    {
     "data": {
      "text/plain": [
       "array([0.81060572, 0.84989067, 0.79913355, 0.68130471, 0.67392881])"
      ]
     },
     "execution_count": 36,
     "metadata": {},
     "output_type": "execute_result"
    }
   ],
   "source": [
    "cosine_similarities = embeddings.dot(q2)\n",
    "cosine_similarities"
   ]
  },
  {
   "cell_type": "code",
   "execution_count": 38,
   "id": "3432bb4c-db71-4589-abc9-59772dd6db1d",
   "metadata": {},
   "outputs": [
    {
     "name": "stdout",
     "output_type": "stream",
     "text": [
      "The document with the highest similarity is at index: 1\n"
     ]
    }
   ],
   "source": [
    "print(f'The document with the highest similarity is at index: {np.argmax(cosine_similarities)}')"
   ]
  },
  {
   "cell_type": "markdown",
   "id": "93b284d4-bd02-4f12-be90-21d548e8a524",
   "metadata": {},
   "source": [
    "# Q4 Ranking by cosines, version two\n",
    "Now let's calculate a new field, which is a concatenation of question and text:\n",
    "```python\n",
    "full_text = doc['question'] + ' ' + doc['text']\n",
    "```"
   ]
  },
  {
   "cell_type": "code",
   "execution_count": 39,
   "id": "5349819c-8594-4728-b4f2-6e28c818ccc9",
   "metadata": {},
   "outputs": [],
   "source": [
    "embeddings = []\n",
    "\n",
    "for doc in documents:\n",
    "    embedded_array = list(embedding_model.embed(doc['question'] + ' ' + doc['text']))[0]\n",
    "    embeddings.append(embedded_array)\n",
    "\n",
    "embeddings = np.array(embeddings)"
   ]
  },
  {
   "cell_type": "code",
   "execution_count": 40,
   "id": "fbce1311-f4b9-4ddb-b001-fd7b894348a8",
   "metadata": {},
   "outputs": [
    {
     "data": {
      "text/plain": [
       "array([0.92732523, 0.85948475, 0.83966021, 0.76320298, 0.76044493])"
      ]
     },
     "execution_count": 40,
     "metadata": {},
     "output_type": "execute_result"
    }
   ],
   "source": [
    "cosine_similarities = embeddings.dot(q2)\n",
    "cosine_similarities"
   ]
  },
  {
   "cell_type": "code",
   "execution_count": 41,
   "id": "0861a96f-fb61-4464-afc1-a76a929df590",
   "metadata": {},
   "outputs": [
    {
     "name": "stdout",
     "output_type": "stream",
     "text": [
      "The document with the highest similarity is at index: 0\n"
     ]
    }
   ],
   "source": [
    "print(f'The document with the highest similarity is at index: {np.argmax(cosine_similarities)}')"
   ]
  },
  {
   "cell_type": "markdown",
   "id": "980b1349-55af-43d6-af63-9da5f831b3e2",
   "metadata": {},
   "source": [
    "It is different from Q3, because now it's taking into consideration the question, which is improves the result"
   ]
  },
  {
   "cell_type": "markdown",
   "id": "62f83551-5ae5-45b6-9d03-35f7a96707bd",
   "metadata": {},
   "source": [
    "# Q5 Selecting the embedding model\n",
    "Now let's select a smaller embedding model. What's the smallest dimensionality for models in fastembed?\n",
    "- 128\n",
    "- 256\n",
    "- 384\n",
    "- 512\n",
    "  \n",
    "One of these models is BAAI/bge-small-en. Let's use it."
   ]
  },
  {
   "cell_type": "code",
   "execution_count": 43,
   "id": "2ad3f996-2001-4054-8190-b11bf43d79e0",
   "metadata": {},
   "outputs": [
    {
     "name": "stdout",
     "output_type": "stream",
     "text": [
      "{\n",
      "  \"model\": \"BAAI/bge-small-en\",\n",
      "  \"sources\": {\n",
      "    \"hf\": \"Qdrant/bge-small-en\",\n",
      "    \"url\": \"https://storage.googleapis.com/qdrant-fastembed/BAAI-bge-small-en.tar.gz\",\n",
      "    \"_deprecated_tar_struct\": true\n",
      "  },\n",
      "  \"model_file\": \"model_optimized.onnx\",\n",
      "  \"description\": \"Text embeddings, Unimodal (text), English, 512 input tokens truncation, Prefixes for queries/documents: necessary, 2023 year.\",\n",
      "  \"license\": \"mit\",\n",
      "  \"size_in_GB\": 0.13,\n",
      "  \"additional_files\": [],\n",
      "  \"dim\": 384,\n",
      "  \"tasks\": {}\n",
      "}\n",
      "{\n",
      "  \"model\": \"BAAI/bge-small-en-v1.5\",\n",
      "  \"sources\": {\n",
      "    \"hf\": \"qdrant/bge-small-en-v1.5-onnx-q\",\n",
      "    \"url\": null,\n",
      "    \"_deprecated_tar_struct\": false\n",
      "  },\n",
      "  \"model_file\": \"model_optimized.onnx\",\n",
      "  \"description\": \"Text embeddings, Unimodal (text), English, 512 input tokens truncation, Prefixes for queries/documents: not so necessary, 2023 year.\",\n",
      "  \"license\": \"mit\",\n",
      "  \"size_in_GB\": 0.067,\n",
      "  \"additional_files\": [],\n",
      "  \"dim\": 384,\n",
      "  \"tasks\": {}\n",
      "}\n",
      "{\n",
      "  \"model\": \"snowflake/snowflake-arctic-embed-xs\",\n",
      "  \"sources\": {\n",
      "    \"hf\": \"snowflake/snowflake-arctic-embed-xs\",\n",
      "    \"url\": null,\n",
      "    \"_deprecated_tar_struct\": false\n",
      "  },\n",
      "  \"model_file\": \"onnx/model.onnx\",\n",
      "  \"description\": \"Text embeddings, Unimodal (text), English, 512 input tokens truncation, Prefixes for queries/documents: necessary, 2024 year.\",\n",
      "  \"license\": \"apache-2.0\",\n",
      "  \"size_in_GB\": 0.09,\n",
      "  \"additional_files\": [],\n",
      "  \"dim\": 384,\n",
      "  \"tasks\": {}\n",
      "}\n",
      "{\n",
      "  \"model\": \"snowflake/snowflake-arctic-embed-s\",\n",
      "  \"sources\": {\n",
      "    \"hf\": \"snowflake/snowflake-arctic-embed-s\",\n",
      "    \"url\": null,\n",
      "    \"_deprecated_tar_struct\": false\n",
      "  },\n",
      "  \"model_file\": \"onnx/model.onnx\",\n",
      "  \"description\": \"Text embeddings, Unimodal (text), English, 512 input tokens truncation, Prefixes for queries/documents: necessary, 2024 year.\",\n",
      "  \"license\": \"apache-2.0\",\n",
      "  \"size_in_GB\": 0.13,\n",
      "  \"additional_files\": [],\n",
      "  \"dim\": 384,\n",
      "  \"tasks\": {}\n",
      "}\n",
      "{\n",
      "  \"model\": \"sentence-transformers/all-MiniLM-L6-v2\",\n",
      "  \"sources\": {\n",
      "    \"hf\": \"qdrant/all-MiniLM-L6-v2-onnx\",\n",
      "    \"url\": \"https://storage.googleapis.com/qdrant-fastembed/sentence-transformers-all-MiniLM-L6-v2.tar.gz\",\n",
      "    \"_deprecated_tar_struct\": true\n",
      "  },\n",
      "  \"model_file\": \"model.onnx\",\n",
      "  \"description\": \"Text embeddings, Unimodal (text), English, 256 input tokens truncation, Prefixes for queries/documents: not necessary, 2021 year.\",\n",
      "  \"license\": \"apache-2.0\",\n",
      "  \"size_in_GB\": 0.09,\n",
      "  \"additional_files\": [],\n",
      "  \"dim\": 384,\n",
      "  \"tasks\": {}\n",
      "}\n",
      "{\n",
      "  \"model\": \"sentence-transformers/paraphrase-multilingual-MiniLM-L12-v2\",\n",
      "  \"sources\": {\n",
      "    \"hf\": \"qdrant/paraphrase-multilingual-MiniLM-L12-v2-onnx-Q\",\n",
      "    \"url\": null,\n",
      "    \"_deprecated_tar_struct\": false\n",
      "  },\n",
      "  \"model_file\": \"model_optimized.onnx\",\n",
      "  \"description\": \"Text embeddings, Unimodal (text), Multilingual (~50 languages), 512 input tokens truncation, Prefixes for queries/documents: not necessary, 2019 year.\",\n",
      "  \"license\": \"apache-2.0\",\n",
      "  \"size_in_GB\": 0.22,\n",
      "  \"additional_files\": [],\n",
      "  \"dim\": 384,\n",
      "  \"tasks\": {}\n",
      "}\n"
     ]
    }
   ],
   "source": [
    "import json\n",
    "\n",
    "dimensionalities = [128, 256, 384]\n",
    "\n",
    "for model in TextEmbedding.list_supported_models():\n",
    "    for dim in dimensionalities:\n",
    "        if model['dim'] == dim:\n",
    "            print(json.dumps(model, indent=2))"
   ]
  },
  {
   "cell_type": "code",
   "execution_count": 47,
   "id": "71d45645-75d8-442a-9254-1efb2b601563",
   "metadata": {},
   "outputs": [],
   "source": [
    "EMBEDDING_DIMENSIONALITY = 384\n",
    "model_handle = 'BAAI/bge-small-en'"
   ]
  },
  {
   "cell_type": "markdown",
   "id": "62c03f36-48b6-4934-ab1a-ff224c6716e3",
   "metadata": {},
   "source": [
    "# Q6. Indexing with qdrant\n",
    "For the last question, we will use more documents.\n",
    "\n",
    "We will select only FAQ records from our ml zoomcamp:"
   ]
  },
  {
   "cell_type": "code",
   "execution_count": 45,
   "id": "81715b84-cd33-436a-83b1-741cdedf66c3",
   "metadata": {},
   "outputs": [],
   "source": [
    "import requests \n",
    "\n",
    "docs_url = 'https://github.com/alexeygrigorev/llm-rag-workshop/raw/main/notebooks/documents.json'\n",
    "docs_response = requests.get(docs_url)\n",
    "documents_raw = docs_response.json()\n",
    "\n",
    "\n",
    "documents = []\n",
    "\n",
    "for course in documents_raw:\n",
    "    course_name = course['course']\n",
    "    if course_name != 'machine-learning-zoomcamp':\n",
    "        continue\n",
    "\n",
    "    for doc in course['documents']:\n",
    "        doc['course'] = course_name\n",
    "        documents.append(doc)"
   ]
  },
  {
   "cell_type": "code",
   "execution_count": 48,
   "id": "105f81fd-b673-4497-87f3-8cb43a8055a6",
   "metadata": {},
   "outputs": [],
   "source": [
    "from qdrant_client import QdrantClient, models\n",
    "qd_client = QdrantClient(\"http://localhost:6333\")"
   ]
  },
  {
   "cell_type": "code",
   "execution_count": 49,
   "id": "bd2806a1-8ef8-4cc8-b865-76e626677038",
   "metadata": {},
   "outputs": [],
   "source": [
    "collection_name = \"vector-search-hw\""
   ]
  },
  {
   "cell_type": "code",
   "execution_count": 50,
   "id": "d780b95d-d258-4b8f-bce6-fa091658038f",
   "metadata": {},
   "outputs": [
    {
     "data": {
      "text/plain": [
       "False"
      ]
     },
     "execution_count": 50,
     "metadata": {},
     "output_type": "execute_result"
    }
   ],
   "source": [
    "qd_client.delete_collection(collection_name=collection_name)"
   ]
  },
  {
   "cell_type": "code",
   "execution_count": 51,
   "id": "746d8d1c-c9a3-4d38-b497-cd75ce5ae649",
   "metadata": {},
   "outputs": [
    {
     "data": {
      "text/plain": [
       "True"
      ]
     },
     "execution_count": 51,
     "metadata": {},
     "output_type": "execute_result"
    }
   ],
   "source": [
    "qd_client.create_collection(\n",
    "    collection_name=collection_name,\n",
    "    vectors_config=models.VectorParams(\n",
    "        size=EMBEDDING_DIMENSIONALITY,\n",
    "        distance=models.Distance.COSINE\n",
    "    )\n",
    ")"
   ]
  },
  {
   "cell_type": "markdown",
   "id": "cd870386-95e5-4616-ac8a-89f87a49c59b",
   "metadata": {},
   "source": [
    "Add them to qdrant using the model form Q5.\n",
    "\n",
    "When adding the data, use both question and answer fields:\n",
    "```python\n",
    "text = doc['question'] + ' ' + doc['text']\n",
    "```"
   ]
  },
  {
   "cell_type": "code",
   "execution_count": 52,
   "id": "a9f36bce-2129-4493-962e-8847491fa10c",
   "metadata": {},
   "outputs": [],
   "source": [
    "points = []\n",
    "\n",
    "for i, doc in enumerate(documents):\n",
    "    text = doc['question'] + ' ' + doc['text']\n",
    "    vector = models.Document(text=text, model=model_handle)\n",
    "    point = models.PointStruct(\n",
    "        id=i,\n",
    "        vector=vector,\n",
    "        payload=doc\n",
    "    )\n",
    "    points.append(point)"
   ]
  },
  {
   "cell_type": "code",
   "execution_count": 53,
   "id": "abdf2106-b239-4cae-ac57-18eb83737654",
   "metadata": {},
   "outputs": [
    {
     "data": {
      "application/vnd.jupyter.widget-view+json": {
       "model_id": "8a1ffd581a9a4b4d825cb8995d15970c",
       "version_major": 2,
       "version_minor": 0
      },
      "text/plain": [
       "Fetching 5 files:   0%|          | 0/5 [00:00<?, ?it/s]"
      ]
     },
     "metadata": {},
     "output_type": "display_data"
    },
    {
     "data": {
      "application/vnd.jupyter.widget-view+json": {
       "model_id": "6c5760d569964e90a3915a5f8cb2101d",
       "version_major": 2,
       "version_minor": 0
      },
      "text/plain": [
       "special_tokens_map.json:   0%|          | 0.00/125 [00:00<?, ?B/s]"
      ]
     },
     "metadata": {},
     "output_type": "display_data"
    },
    {
     "data": {
      "application/vnd.jupyter.widget-view+json": {
       "model_id": "84d1b6448ec74f49a5baddceb8a84d15",
       "version_major": 2,
       "version_minor": 0
      },
      "text/plain": [
       "config.json:   0%|          | 0.00/701 [00:00<?, ?B/s]"
      ]
     },
     "metadata": {},
     "output_type": "display_data"
    },
    {
     "data": {
      "application/vnd.jupyter.widget-view+json": {
       "model_id": "cad70be438824b548afa7f1d455a4e85",
       "version_major": 2,
       "version_minor": 0
      },
      "text/plain": [
       "tokenizer.json: 0.00B [00:00, ?B/s]"
      ]
     },
     "metadata": {},
     "output_type": "display_data"
    },
    {
     "data": {
      "application/vnd.jupyter.widget-view+json": {
       "model_id": "bc13297d8cab4bc788ad299975401749",
       "version_major": 2,
       "version_minor": 0
      },
      "text/plain": [
       "tokenizer_config.json:   0%|          | 0.00/366 [00:00<?, ?B/s]"
      ]
     },
     "metadata": {},
     "output_type": "display_data"
    },
    {
     "data": {
      "application/vnd.jupyter.widget-view+json": {
       "model_id": "6193f404897648d2b5103c81491e0aa3",
       "version_major": 2,
       "version_minor": 0
      },
      "text/plain": [
       "model_optimized.onnx:   0%|          | 0.00/133M [00:00<?, ?B/s]"
      ]
     },
     "metadata": {},
     "output_type": "display_data"
    },
    {
     "data": {
      "text/plain": [
       "UpdateResult(operation_id=0, status=<UpdateStatus.COMPLETED: 'completed'>)"
      ]
     },
     "execution_count": 53,
     "metadata": {},
     "output_type": "execute_result"
    }
   ],
   "source": [
    "qd_client.upsert(\n",
    "    collection_name=collection_name,\n",
    "    points=points\n",
    ")"
   ]
  },
  {
   "cell_type": "markdown",
   "id": "8a9d7bc8-d9f3-4510-9535-96680b350d81",
   "metadata": {},
   "source": [
    "After the data is inserted, use the question from Q1 for querying the collection."
   ]
  },
  {
   "cell_type": "code",
   "execution_count": 54,
   "id": "340bade6-0a6c-4bb3-ae9f-f25eacd5ae22",
   "metadata": {},
   "outputs": [
    {
     "data": {
      "text/plain": [
       "'I just discovered the course. Can I join now?'"
      ]
     },
     "execution_count": 54,
     "metadata": {},
     "output_type": "execute_result"
    }
   ],
   "source": [
    "query"
   ]
  },
  {
   "cell_type": "code",
   "execution_count": 67,
   "id": "ad18b541-803d-4e73-9096-0954b4cb2a10",
   "metadata": {},
   "outputs": [],
   "source": [
    "def query_points(question):\n",
    "    query_points = qd_client.query_points(\n",
    "        collection_name=collection_name,\n",
    "        query=models.Document(\n",
    "            text=question,\n",
    "            model=model_handle \n",
    "        ),\n",
    "        limit=1,\n",
    "        with_payload=True\n",
    "    )\n",
    "    \n",
    "    results = []\n",
    "    \n",
    "    for point in query_points.points:\n",
    "        results.append(point)\n",
    "    \n",
    "    return results"
   ]
  },
  {
   "cell_type": "markdown",
   "id": "b8c2ab40-6a4e-4264-8ead-7d5f65880d47",
   "metadata": {},
   "source": [
    "What's the highest score in the results? (The score for the first returned record):\n",
    "- 0.97\n",
    "- 0.87\n",
    "- 0.77\n",
    "- 0.67"
   ]
  },
  {
   "cell_type": "code",
   "execution_count": 68,
   "id": "adaff6ba-cd13-4bbd-b692-9e6032e7a631",
   "metadata": {
    "scrolled": true
   },
   "outputs": [
    {
     "data": {
      "text/plain": [
       "[ScoredPoint(id=14, version=0, score=0.8703172, payload={'text': 'Yes, you can. You won’t be able to submit some of the homeworks, but you can still take part in the course.\\nIn order to get a certificate, you need to submit 2 out of 3 course projects and review 3 peers’ Projects by the deadline. It means that if you join the course at the end of November and manage to work on two projects, you will still be eligible for a certificate.', 'section': 'General course-related questions', 'question': 'The course has already started. Can I still join it?', 'course': 'machine-learning-zoomcamp'}, vector=None, shard_key=None, order_value=None)]"
      ]
     },
     "execution_count": 68,
     "metadata": {},
     "output_type": "execute_result"
    }
   ],
   "source": [
    "query_points(query)"
   ]
  },
  {
   "cell_type": "code",
   "execution_count": 70,
   "id": "187d7814-3c92-4e42-99b4-e8232baca80e",
   "metadata": {},
   "outputs": [
    {
     "data": {
      "text/plain": [
       "0.8703172"
      ]
     },
     "execution_count": 70,
     "metadata": {},
     "output_type": "execute_result"
    }
   ],
   "source": [
    "query_points(query)[0].score"
   ]
  },
  {
   "cell_type": "code",
   "execution_count": 73,
   "id": "2a621a94-3dfb-4fc1-9f43-5e116cf58df0",
   "metadata": {},
   "outputs": [
    {
     "name": "stdout",
     "output_type": "stream",
     "text": [
      "The highest score in the results is 0.87\n"
     ]
    }
   ],
   "source": [
    "print(f'The highest score in the results is {np.round(query_points(query)[0].score,2)}')"
   ]
  },
  {
   "cell_type": "code",
   "execution_count": null,
   "id": "d4d8000e-d7b5-4cb0-96bc-1b82eb5afecc",
   "metadata": {},
   "outputs": [],
   "source": []
  }
 ],
 "metadata": {
  "kernelspec": {
   "display_name": "Python 3 (ipykernel)",
   "language": "python",
   "name": "python3"
  },
  "language_info": {
   "codemirror_mode": {
    "name": "ipython",
    "version": 3
   },
   "file_extension": ".py",
   "mimetype": "text/x-python",
   "name": "python",
   "nbconvert_exporter": "python",
   "pygments_lexer": "ipython3",
   "version": "3.12.1"
  }
 },
 "nbformat": 4,
 "nbformat_minor": 5
}
