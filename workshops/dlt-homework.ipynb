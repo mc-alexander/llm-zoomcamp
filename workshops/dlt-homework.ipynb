{
 "cells": [
  {
   "cell_type": "markdown",
   "id": "6760f489-a38a-4009-9253-755d44a3f2ae",
   "metadata": {},
   "source": [
    "# dlt Homework"
   ]
  },
  {
   "cell_type": "markdown",
   "id": "67a90552-a306-40b2-ac4d-e543cfd06d4b",
   "metadata": {},
   "source": [
    "## Q1 dlt Version\n",
    "In this homework, we will load the data from our FAQ to Qdrant<br>\n",
    "Let's install dlt with Qdrant support and Qdrant client"
   ]
  },
  {
   "cell_type": "code",
   "execution_count": null,
   "id": "6e9c1a56-9143-450c-b8ec-84538e2a8428",
   "metadata": {},
   "outputs": [],
   "source": [
    "# !pip install -q \"dlt[qdrant]\" \"qdrant-client[fastembed]\""
   ]
  },
  {
   "cell_type": "markdown",
   "id": "48efe7d2-c1fb-47d7-a5e2-b88cb086150f",
   "metadata": {},
   "source": [
    "### dlt Resource"
   ]
  },
  {
   "cell_type": "code",
   "execution_count": 1,
   "id": "9e83daf9-f416-4de6-8b31-f269a89d078e",
   "metadata": {},
   "outputs": [],
   "source": [
    "import dlt\n",
    "import requests\n",
    "\n",
    "@dlt.resource()\n",
    "def zoomcamp_data():\n",
    "    \"\"\"\n",
    "    This generator function fetches course documents from a URL,\n",
    "    adds the course name to each document, and yields them one by one.\n",
    "    The @dlt.resource decorator marks this function as a data source for dlt.\n",
    "    \"\"\"\n",
    "    docs_url = 'https://github.com/alexeygrigorev/llm-rag-workshop/raw/main/notebooks/documents.json'\n",
    "    docs_response = requests.get(docs_url)\n",
    "    documents_raw = docs_response.json()\n",
    "\n",
    "    for course in documents_raw:\n",
    "        course_name = course['course']\n",
    "        \n",
    "        for doc in course['documents']:\n",
    "            doc['course'] = course_name\n",
    "            yield doc"
   ]
  },
  {
   "cell_type": "code",
   "execution_count": 3,
   "id": "41729448-8f28-469f-829b-d77b4f407942",
   "metadata": {},
   "outputs": [
    {
     "name": "stdout",
     "output_type": "stream",
     "text": [
      "dlt version: 1.13.0\n"
     ]
    }
   ],
   "source": [
    "print(f'dlt version: {dlt.__version__}')"
   ]
  },
  {
   "cell_type": "markdown",
   "id": "07128db3-88bb-46fe-957d-e05db4ececd1",
   "metadata": {},
   "source": [
    "## Q2. dlt pipeline"
   ]
  },
  {
   "cell_type": "code",
   "execution_count": 4,
   "id": "d244a7ad-c789-4568-a180-2a0d0620752f",
   "metadata": {},
   "outputs": [
    {
     "data": {
      "application/vnd.jupyter.widget-view+json": {
       "model_id": "bd12d864ef7944919cb292f72bc8ee76",
       "version_major": 2,
       "version_minor": 0
      },
      "text/plain": [
       "Fetching 5 files:   0%|          | 0/5 [00:00<?, ?it/s]"
      ]
     },
     "metadata": {},
     "output_type": "display_data"
    },
    {
     "data": {
      "application/vnd.jupyter.widget-view+json": {
       "model_id": "97231b80077646f192ec4b56ef64fe5f",
       "version_major": 2,
       "version_minor": 0
      },
      "text/plain": [
       "config.json:   0%|          | 0.00/701 [00:00<?, ?B/s]"
      ]
     },
     "metadata": {},
     "output_type": "display_data"
    },
    {
     "data": {
      "application/vnd.jupyter.widget-view+json": {
       "model_id": "683314bec0764111b807094cf9c98c5e",
       "version_major": 2,
       "version_minor": 0
      },
      "text/plain": [
       "tokenizer_config.json:   0%|          | 0.00/366 [00:00<?, ?B/s]"
      ]
     },
     "metadata": {},
     "output_type": "display_data"
    },
    {
     "data": {
      "application/vnd.jupyter.widget-view+json": {
       "model_id": "fd7f7dbfb6a94e3fbc1fb2aa4f2ee9f0",
       "version_major": 2,
       "version_minor": 0
      },
      "text/plain": [
       "tokenizer.json: 0.00B [00:00, ?B/s]"
      ]
     },
     "metadata": {},
     "output_type": "display_data"
    },
    {
     "data": {
      "application/vnd.jupyter.widget-view+json": {
       "model_id": "7e72661e77a44f3c9d92c7acc175756e",
       "version_major": 2,
       "version_minor": 0
      },
      "text/plain": [
       "special_tokens_map.json:   0%|          | 0.00/125 [00:00<?, ?B/s]"
      ]
     },
     "metadata": {},
     "output_type": "display_data"
    },
    {
     "data": {
      "application/vnd.jupyter.widget-view+json": {
       "model_id": "7d2a8141175a460ba6c23a9505008382",
       "version_major": 2,
       "version_minor": 0
      },
      "text/plain": [
       "model_optimized.onnx:   0%|          | 0.00/133M [00:00<?, ?B/s]"
      ]
     },
     "metadata": {},
     "output_type": "display_data"
    },
    {
     "name": "stdout",
     "output_type": "stream",
     "text": [
      "Pipeline run finished!\n",
      "\n",
      "Printing load info:\n",
      "Pipeline zoomcamp_pipeline load step completed in 4.05 seconds\n",
      "1 load package(s) were loaded to destination qdrant and into dataset zoomcamp_tagged_data\n",
      "The qdrant destination used /workspaces/llm-zoomcamp/workshops/db.qdrant location to store data\n",
      "Load package 1752148609.1325104 is LOADED and contains no failed jobs\n",
      "\n",
      "\n",
      "\n",
      "Printing last trace:\n",
      "Run started at 2025-07-10 11:56:43.138773+00:00 and COMPLETED in 10.49 seconds with 4 steps.\n",
      "Step extract COMPLETED in 0.35 seconds.\n",
      "\n",
      "Load package 1752148609.1325104 is EXTRACTED and NOT YET LOADED to the destination and contains no failed jobs\n",
      "\n",
      "Step normalize COMPLETED in 0.09 seconds.\n",
      "Normalized data for the following tables:\n",
      "- _dlt_pipeline_state: 1 row(s)\n",
      "- zoomcamp_data: 948 row(s)\n",
      "\n",
      "Load package 1752148609.1325104 is NORMALIZED and NOT YET LOADED to the destination and contains no failed jobs\n",
      "\n",
      "Step load COMPLETED in 4.07 seconds.\n",
      "Pipeline zoomcamp_pipeline load step completed in 4.05 seconds\n",
      "1 load package(s) were loaded to destination qdrant and into dataset zoomcamp_tagged_data\n",
      "The qdrant destination used /workspaces/llm-zoomcamp/workshops/db.qdrant location to store data\n",
      "Load package 1752148609.1325104 is LOADED and contains no failed jobs\n",
      "\n",
      "Step run COMPLETED in 10.49 seconds.\n",
      "Pipeline zoomcamp_pipeline load step completed in 4.05 seconds\n",
      "1 load package(s) were loaded to destination qdrant and into dataset zoomcamp_tagged_data\n",
      "The qdrant destination used /workspaces/llm-zoomcamp/workshops/db.qdrant location to store data\n",
      "Load package 1752148609.1325104 is LOADED and contains no failed jobs\n"
     ]
    }
   ],
   "source": [
    "from dlt.destinations import qdrant\n",
    "\n",
    "qdrant_destination = qdrant(\n",
    "  qd_path=\"db.qdrant\", \n",
    ")\n",
    "\n",
    "# Run the pipeline\n",
    "pipeline = dlt.pipeline(\n",
    "    pipeline_name=\"zoomcamp_pipeline\",\n",
    "    destination=qdrant_destination,\n",
    "    dataset_name=\"zoomcamp_tagged_data\"\n",
    "\n",
    ")\n",
    "load_info = pipeline.run(zoomcamp_data())\n",
    "\n",
    "print(\"Pipeline run finished!\")\n",
    "print(f'\\nPrinting load info:\\n{load_info}\\n\\n')\n",
    "print(f'\\nPrinting last trace:\\n{pipeline.last_trace}')"
   ]
  },
  {
   "cell_type": "code",
   "execution_count": 5,
   "id": "ff98a690-5f2a-41a8-aa5d-136ba0b27806",
   "metadata": {},
   "outputs": [
    {
     "name": "stdout",
     "output_type": "stream",
     "text": [
      "Number of rows for zoomcamp data is 948 rows\n"
     ]
    }
   ],
   "source": [
    "print('Number of rows for zoomcamp data is 948 rows')"
   ]
  },
  {
   "cell_type": "markdown",
   "id": "7ca5804b-05a3-41a0-9008-e46a18feca1f",
   "metadata": {},
   "source": [
    "# Q3. Embeddings\n",
    "The meta.json files shows the fast-bge-small-en model was used to embed the FAQs"
   ]
  }
 ],
 "metadata": {
  "kernelspec": {
   "display_name": "Python 3 (ipykernel)",
   "language": "python",
   "name": "python3"
  },
  "language_info": {
   "codemirror_mode": {
    "name": "ipython",
    "version": 3
   },
   "file_extension": ".py",
   "mimetype": "text/x-python",
   "name": "python",
   "nbconvert_exporter": "python",
   "pygments_lexer": "ipython3",
   "version": "3.12.1"
  }
 },
 "nbformat": 4,
 "nbformat_minor": 5
}
